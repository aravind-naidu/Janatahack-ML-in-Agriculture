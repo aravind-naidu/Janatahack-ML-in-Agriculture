{
  "nbformat": 4,
  "nbformat_minor": 0,
  "metadata": {
    "kernelspec": {
      "display_name": "Python 3",
      "language": "python",
      "name": "python3"
    },
    "language_info": {
      "codemirror_mode": {
        "name": "ipython",
        "version": 3
      },
      "file_extension": ".py",
      "mimetype": "text/x-python",
      "name": "python",
      "nbconvert_exporter": "python",
      "pygments_lexer": "ipython3",
      "version": "3.7.3"
    },
    "colab": {
      "name": "Janatahack ML in Agriculture.ipynb",
      "provenance": []
    }
  },
  "cells": [
    {
      "cell_type": "code",
      "metadata": {
        "id": "3REVtiz7rwYt"
      },
      "source": [
        "import numpy as np\n",
        "import pandas as pd\n",
        "import matplotlib.pyplot as plt\n",
        "%matplotlib inline\n",
        "\n",
        "from sklearn.metrics import confusion_matrix,accuracy_score,classification_report\n",
        "seed = 42"
      ],
      "execution_count": 148,
      "outputs": []
    },
    {
      "cell_type": "code",
      "metadata": {
        "id": "voaufmN3rwY6"
      },
      "source": [
        "train = pd.read_csv(\"train_agri.csv\")\n",
        "test_path = \"\"\n",
        "test_data = pd.read_csv(test_path)\n",
        "sub_path = \"sample_submission.csv\"\n",
        "submission = pd.read_csv(sub_path)"
      ],
      "execution_count": 149,
      "outputs": []
    },
    {
      "cell_type": "code",
      "metadata": {
        "colab": {
          "base_uri": "https://localhost:8080/"
        },
        "id": "GnTbSahGrwY7",
        "outputId": "e4fabf05-34e6-4ea7-e420-1a8041e0110d"
      },
      "source": [
        "train.shape"
      ],
      "execution_count": 150,
      "outputs": [
        {
          "output_type": "execute_result",
          "data": {
            "text/plain": [
              "(88858, 10)"
            ]
          },
          "metadata": {
            "tags": []
          },
          "execution_count": 150
        }
      ]
    },
    {
      "cell_type": "code",
      "metadata": {
        "colab": {
          "base_uri": "https://localhost:8080/"
        },
        "id": "0KYIZ4VDrwY9",
        "outputId": "57288229-891b-4e79-b9b1-bd2f3e372db1"
      },
      "source": [
        "test_data.shape"
      ],
      "execution_count": 151,
      "outputs": [
        {
          "output_type": "execute_result",
          "data": {
            "text/plain": [
              "(59310, 9)"
            ]
          },
          "metadata": {
            "tags": []
          },
          "execution_count": 151
        }
      ]
    },
    {
      "cell_type": "code",
      "metadata": {
        "colab": {
          "base_uri": "https://localhost:8080/",
          "height": 195
        },
        "id": "_RkxnPq8rwY-",
        "outputId": "9c7fb034-0eb9-40e5-de3b-ba0ba7103228"
      },
      "source": [
        "train.head()"
      ],
      "execution_count": 152,
      "outputs": [
        {
          "output_type": "execute_result",
          "data": {
            "text/html": [
              "<div>\n",
              "<style scoped>\n",
              "    .dataframe tbody tr th:only-of-type {\n",
              "        vertical-align: middle;\n",
              "    }\n",
              "\n",
              "    .dataframe tbody tr th {\n",
              "        vertical-align: top;\n",
              "    }\n",
              "\n",
              "    .dataframe thead th {\n",
              "        text-align: right;\n",
              "    }\n",
              "</style>\n",
              "<table border=\"1\" class=\"dataframe\">\n",
              "  <thead>\n",
              "    <tr style=\"text-align: right;\">\n",
              "      <th></th>\n",
              "      <th>ID</th>\n",
              "      <th>Estimated_Insects_Count</th>\n",
              "      <th>Crop_Type</th>\n",
              "      <th>Soil_Type</th>\n",
              "      <th>Pesticide_Use_Category</th>\n",
              "      <th>Number_Doses_Week</th>\n",
              "      <th>Number_Weeks_Used</th>\n",
              "      <th>Number_Weeks_Quit</th>\n",
              "      <th>Season</th>\n",
              "      <th>Crop_Damage</th>\n",
              "    </tr>\n",
              "  </thead>\n",
              "  <tbody>\n",
              "    <tr>\n",
              "      <th>0</th>\n",
              "      <td>F00000001</td>\n",
              "      <td>188</td>\n",
              "      <td>1</td>\n",
              "      <td>0</td>\n",
              "      <td>1</td>\n",
              "      <td>0</td>\n",
              "      <td>0.0</td>\n",
              "      <td>0</td>\n",
              "      <td>1</td>\n",
              "      <td>0</td>\n",
              "    </tr>\n",
              "    <tr>\n",
              "      <th>1</th>\n",
              "      <td>F00000003</td>\n",
              "      <td>209</td>\n",
              "      <td>1</td>\n",
              "      <td>0</td>\n",
              "      <td>1</td>\n",
              "      <td>0</td>\n",
              "      <td>0.0</td>\n",
              "      <td>0</td>\n",
              "      <td>2</td>\n",
              "      <td>1</td>\n",
              "    </tr>\n",
              "    <tr>\n",
              "      <th>2</th>\n",
              "      <td>F00000004</td>\n",
              "      <td>257</td>\n",
              "      <td>1</td>\n",
              "      <td>0</td>\n",
              "      <td>1</td>\n",
              "      <td>0</td>\n",
              "      <td>0.0</td>\n",
              "      <td>0</td>\n",
              "      <td>2</td>\n",
              "      <td>1</td>\n",
              "    </tr>\n",
              "    <tr>\n",
              "      <th>3</th>\n",
              "      <td>F00000005</td>\n",
              "      <td>257</td>\n",
              "      <td>1</td>\n",
              "      <td>1</td>\n",
              "      <td>1</td>\n",
              "      <td>0</td>\n",
              "      <td>0.0</td>\n",
              "      <td>0</td>\n",
              "      <td>2</td>\n",
              "      <td>1</td>\n",
              "    </tr>\n",
              "    <tr>\n",
              "      <th>4</th>\n",
              "      <td>F00000006</td>\n",
              "      <td>342</td>\n",
              "      <td>1</td>\n",
              "      <td>0</td>\n",
              "      <td>1</td>\n",
              "      <td>0</td>\n",
              "      <td>0.0</td>\n",
              "      <td>0</td>\n",
              "      <td>2</td>\n",
              "      <td>1</td>\n",
              "    </tr>\n",
              "  </tbody>\n",
              "</table>\n",
              "</div>"
            ],
            "text/plain": [
              "          ID  Estimated_Insects_Count  ...  Season  Crop_Damage\n",
              "0  F00000001                      188  ...       1            0\n",
              "1  F00000003                      209  ...       2            1\n",
              "2  F00000004                      257  ...       2            1\n",
              "3  F00000005                      257  ...       2            1\n",
              "4  F00000006                      342  ...       2            1\n",
              "\n",
              "[5 rows x 10 columns]"
            ]
          },
          "metadata": {
            "tags": []
          },
          "execution_count": 152
        }
      ]
    },
    {
      "cell_type": "code",
      "metadata": {
        "colab": {
          "base_uri": "https://localhost:8080/",
          "height": 314
        },
        "id": "KQpuO7ourwZA",
        "outputId": "5cab635e-3acc-4530-b5d8-e0d6796d8d64"
      },
      "source": [
        "train.corr(method ='pearson')"
      ],
      "execution_count": 153,
      "outputs": [
        {
          "output_type": "execute_result",
          "data": {
            "text/html": [
              "<div>\n",
              "<style scoped>\n",
              "    .dataframe tbody tr th:only-of-type {\n",
              "        vertical-align: middle;\n",
              "    }\n",
              "\n",
              "    .dataframe tbody tr th {\n",
              "        vertical-align: top;\n",
              "    }\n",
              "\n",
              "    .dataframe thead th {\n",
              "        text-align: right;\n",
              "    }\n",
              "</style>\n",
              "<table border=\"1\" class=\"dataframe\">\n",
              "  <thead>\n",
              "    <tr style=\"text-align: right;\">\n",
              "      <th></th>\n",
              "      <th>Estimated_Insects_Count</th>\n",
              "      <th>Crop_Type</th>\n",
              "      <th>Soil_Type</th>\n",
              "      <th>Pesticide_Use_Category</th>\n",
              "      <th>Number_Doses_Week</th>\n",
              "      <th>Number_Weeks_Used</th>\n",
              "      <th>Number_Weeks_Quit</th>\n",
              "      <th>Season</th>\n",
              "      <th>Crop_Damage</th>\n",
              "    </tr>\n",
              "  </thead>\n",
              "  <tbody>\n",
              "    <tr>\n",
              "      <th>Estimated_Insects_Count</th>\n",
              "      <td>1.000000</td>\n",
              "      <td>-0.088830</td>\n",
              "      <td>-0.056375</td>\n",
              "      <td>-0.079904</td>\n",
              "      <td>-0.102461</td>\n",
              "      <td>0.434925</td>\n",
              "      <td>0.299279</td>\n",
              "      <td>0.002304</td>\n",
              "      <td>0.202888</td>\n",
              "    </tr>\n",
              "    <tr>\n",
              "      <th>Crop_Type</th>\n",
              "      <td>-0.088830</td>\n",
              "      <td>1.000000</td>\n",
              "      <td>-0.287372</td>\n",
              "      <td>0.235779</td>\n",
              "      <td>-0.192161</td>\n",
              "      <td>-0.043991</td>\n",
              "      <td>-0.233394</td>\n",
              "      <td>0.002161</td>\n",
              "      <td>-0.016495</td>\n",
              "    </tr>\n",
              "    <tr>\n",
              "      <th>Soil_Type</th>\n",
              "      <td>-0.056375</td>\n",
              "      <td>-0.287372</td>\n",
              "      <td>1.000000</td>\n",
              "      <td>0.032657</td>\n",
              "      <td>0.079447</td>\n",
              "      <td>-0.070051</td>\n",
              "      <td>0.009364</td>\n",
              "      <td>0.002327</td>\n",
              "      <td>-0.021997</td>\n",
              "    </tr>\n",
              "    <tr>\n",
              "      <th>Pesticide_Use_Category</th>\n",
              "      <td>-0.079904</td>\n",
              "      <td>0.235779</td>\n",
              "      <td>0.032657</td>\n",
              "      <td>1.000000</td>\n",
              "      <td>-0.003498</td>\n",
              "      <td>0.344131</td>\n",
              "      <td>-0.554169</td>\n",
              "      <td>0.002811</td>\n",
              "      <td>0.175002</td>\n",
              "    </tr>\n",
              "    <tr>\n",
              "      <th>Number_Doses_Week</th>\n",
              "      <td>-0.102461</td>\n",
              "      <td>-0.192161</td>\n",
              "      <td>0.079447</td>\n",
              "      <td>-0.003498</td>\n",
              "      <td>1.000000</td>\n",
              "      <td>0.126426</td>\n",
              "      <td>-0.037131</td>\n",
              "      <td>-0.001401</td>\n",
              "      <td>-0.030874</td>\n",
              "    </tr>\n",
              "    <tr>\n",
              "      <th>Number_Weeks_Used</th>\n",
              "      <td>0.434925</td>\n",
              "      <td>-0.043991</td>\n",
              "      <td>-0.070051</td>\n",
              "      <td>0.344131</td>\n",
              "      <td>0.126426</td>\n",
              "      <td>1.000000</td>\n",
              "      <td>-0.449007</td>\n",
              "      <td>0.004417</td>\n",
              "      <td>0.232192</td>\n",
              "    </tr>\n",
              "    <tr>\n",
              "      <th>Number_Weeks_Quit</th>\n",
              "      <td>0.299279</td>\n",
              "      <td>-0.233394</td>\n",
              "      <td>0.009364</td>\n",
              "      <td>-0.554169</td>\n",
              "      <td>-0.037131</td>\n",
              "      <td>-0.449007</td>\n",
              "      <td>1.000000</td>\n",
              "      <td>0.000595</td>\n",
              "      <td>-0.133117</td>\n",
              "    </tr>\n",
              "    <tr>\n",
              "      <th>Season</th>\n",
              "      <td>0.002304</td>\n",
              "      <td>0.002161</td>\n",
              "      <td>0.002327</td>\n",
              "      <td>0.002811</td>\n",
              "      <td>-0.001401</td>\n",
              "      <td>0.004417</td>\n",
              "      <td>0.000595</td>\n",
              "      <td>1.000000</td>\n",
              "      <td>-0.000184</td>\n",
              "    </tr>\n",
              "    <tr>\n",
              "      <th>Crop_Damage</th>\n",
              "      <td>0.202888</td>\n",
              "      <td>-0.016495</td>\n",
              "      <td>-0.021997</td>\n",
              "      <td>0.175002</td>\n",
              "      <td>-0.030874</td>\n",
              "      <td>0.232192</td>\n",
              "      <td>-0.133117</td>\n",
              "      <td>-0.000184</td>\n",
              "      <td>1.000000</td>\n",
              "    </tr>\n",
              "  </tbody>\n",
              "</table>\n",
              "</div>"
            ],
            "text/plain": [
              "                         Estimated_Insects_Count  ...  Crop_Damage\n",
              "Estimated_Insects_Count                 1.000000  ...     0.202888\n",
              "Crop_Type                              -0.088830  ...    -0.016495\n",
              "Soil_Type                              -0.056375  ...    -0.021997\n",
              "Pesticide_Use_Category                 -0.079904  ...     0.175002\n",
              "Number_Doses_Week                      -0.102461  ...    -0.030874\n",
              "Number_Weeks_Used                       0.434925  ...     0.232192\n",
              "Number_Weeks_Quit                       0.299279  ...    -0.133117\n",
              "Season                                  0.002304  ...    -0.000184\n",
              "Crop_Damage                             0.202888  ...     1.000000\n",
              "\n",
              "[9 rows x 9 columns]"
            ]
          },
          "metadata": {
            "tags": []
          },
          "execution_count": 153
        }
      ]
    },
    {
      "cell_type": "code",
      "metadata": {
        "colab": {
          "base_uri": "https://localhost:8080/"
        },
        "id": "suiuI5WOrwZA",
        "outputId": "f820ffc9-5300-44e6-fa18-f32ac348eace"
      },
      "source": [
        "train['Crop_Damage'].value_counts()"
      ],
      "execution_count": 154,
      "outputs": [
        {
          "output_type": "execute_result",
          "data": {
            "text/plain": [
              "0    74238\n",
              "1    12307\n",
              "2     2313\n",
              "Name: Crop_Damage, dtype: int64"
            ]
          },
          "metadata": {
            "tags": []
          },
          "execution_count": 154
        }
      ]
    },
    {
      "cell_type": "code",
      "metadata": {
        "colab": {
          "base_uri": "https://localhost:8080/"
        },
        "id": "OYMsBlmUrwZB",
        "outputId": "6a0ff171-bb4e-4e99-e3d5-1499da482e10"
      },
      "source": [
        "# Missing value in the dataset\n",
        "\n",
        "train.isnull().sum()\n"
      ],
      "execution_count": 155,
      "outputs": [
        {
          "output_type": "execute_result",
          "data": {
            "text/plain": [
              "ID                            0\n",
              "Estimated_Insects_Count       0\n",
              "Crop_Type                     0\n",
              "Soil_Type                     0\n",
              "Pesticide_Use_Category        0\n",
              "Number_Doses_Week             0\n",
              "Number_Weeks_Used          9000\n",
              "Number_Weeks_Quit             0\n",
              "Season                        0\n",
              "Crop_Damage                   0\n",
              "dtype: int64"
            ]
          },
          "metadata": {
            "tags": []
          },
          "execution_count": 155
        }
      ]
    },
    {
      "cell_type": "code",
      "metadata": {
        "colab": {
          "base_uri": "https://localhost:8080/"
        },
        "id": "1kAGmwqvrwZC",
        "outputId": "39a97fd2-8136-43d7-8afe-b9acc24b7dc7"
      },
      "source": [
        "test_data.isnull().sum()"
      ],
      "execution_count": 156,
      "outputs": [
        {
          "output_type": "execute_result",
          "data": {
            "text/plain": [
              "ID                            0\n",
              "Estimated_Insects_Count       0\n",
              "Crop_Type                     0\n",
              "Soil_Type                     0\n",
              "Pesticide_Use_Category        0\n",
              "Number_Doses_Week             0\n",
              "Number_Weeks_Used          5893\n",
              "Number_Weeks_Quit             0\n",
              "Season                        0\n",
              "dtype: int64"
            ]
          },
          "metadata": {
            "tags": []
          },
          "execution_count": 156
        }
      ]
    },
    {
      "cell_type": "code",
      "metadata": {
        "id": "3bg3POUJrwZC"
      },
      "source": [
        "train['Number_Weeks_Used'] = train['Number_Weeks_Used'].fillna(train['Number_Weeks_Used'].mode()[0])"
      ],
      "execution_count": 157,
      "outputs": []
    },
    {
      "cell_type": "code",
      "metadata": {
        "id": "yVaDgnwCrwZD"
      },
      "source": [
        "test_data['Number_Weeks_Used'] = test_data['Number_Weeks_Used'].fillna(test_data['Number_Weeks_Used'].mode()[0])"
      ],
      "execution_count": 158,
      "outputs": []
    },
    {
      "cell_type": "code",
      "metadata": {
        "colab": {
          "base_uri": "https://localhost:8080/"
        },
        "id": "ybqKyQa4rwZD",
        "outputId": "1ba74da7-5628-4db7-b358-985ab1338b81"
      },
      "source": [
        "train.isnull().sum()"
      ],
      "execution_count": 159,
      "outputs": [
        {
          "output_type": "execute_result",
          "data": {
            "text/plain": [
              "ID                         0\n",
              "Estimated_Insects_Count    0\n",
              "Crop_Type                  0\n",
              "Soil_Type                  0\n",
              "Pesticide_Use_Category     0\n",
              "Number_Doses_Week          0\n",
              "Number_Weeks_Used          0\n",
              "Number_Weeks_Quit          0\n",
              "Season                     0\n",
              "Crop_Damage                0\n",
              "dtype: int64"
            ]
          },
          "metadata": {
            "tags": []
          },
          "execution_count": 159
        }
      ]
    },
    {
      "cell_type": "code",
      "metadata": {
        "colab": {
          "base_uri": "https://localhost:8080/"
        },
        "id": "jz5wvdtErwZE",
        "outputId": "c398b8bc-9928-4d49-aa66-1ef628a6899d"
      },
      "source": [
        "test_data.isnull().sum()"
      ],
      "execution_count": 160,
      "outputs": [
        {
          "output_type": "execute_result",
          "data": {
            "text/plain": [
              "ID                         0\n",
              "Estimated_Insects_Count    0\n",
              "Crop_Type                  0\n",
              "Soil_Type                  0\n",
              "Pesticide_Use_Category     0\n",
              "Number_Doses_Week          0\n",
              "Number_Weeks_Used          0\n",
              "Number_Weeks_Quit          0\n",
              "Season                     0\n",
              "dtype: int64"
            ]
          },
          "metadata": {
            "tags": []
          },
          "execution_count": 160
        }
      ]
    },
    {
      "cell_type": "code",
      "metadata": {
        "id": "jvptMxBJrwZE"
      },
      "source": [
        "train.drop('ID',axis=1,inplace=True)"
      ],
      "execution_count": 161,
      "outputs": []
    },
    {
      "cell_type": "code",
      "metadata": {
        "colab": {
          "base_uri": "https://localhost:8080/",
          "height": 195
        },
        "id": "yQL_Pgk6rwZF",
        "outputId": "96dd3d44-1aef-42da-e7b6-ea3738fa6588"
      },
      "source": [
        "train.head()"
      ],
      "execution_count": 162,
      "outputs": [
        {
          "output_type": "execute_result",
          "data": {
            "text/html": [
              "<div>\n",
              "<style scoped>\n",
              "    .dataframe tbody tr th:only-of-type {\n",
              "        vertical-align: middle;\n",
              "    }\n",
              "\n",
              "    .dataframe tbody tr th {\n",
              "        vertical-align: top;\n",
              "    }\n",
              "\n",
              "    .dataframe thead th {\n",
              "        text-align: right;\n",
              "    }\n",
              "</style>\n",
              "<table border=\"1\" class=\"dataframe\">\n",
              "  <thead>\n",
              "    <tr style=\"text-align: right;\">\n",
              "      <th></th>\n",
              "      <th>Estimated_Insects_Count</th>\n",
              "      <th>Crop_Type</th>\n",
              "      <th>Soil_Type</th>\n",
              "      <th>Pesticide_Use_Category</th>\n",
              "      <th>Number_Doses_Week</th>\n",
              "      <th>Number_Weeks_Used</th>\n",
              "      <th>Number_Weeks_Quit</th>\n",
              "      <th>Season</th>\n",
              "      <th>Crop_Damage</th>\n",
              "    </tr>\n",
              "  </thead>\n",
              "  <tbody>\n",
              "    <tr>\n",
              "      <th>0</th>\n",
              "      <td>188</td>\n",
              "      <td>1</td>\n",
              "      <td>0</td>\n",
              "      <td>1</td>\n",
              "      <td>0</td>\n",
              "      <td>0.0</td>\n",
              "      <td>0</td>\n",
              "      <td>1</td>\n",
              "      <td>0</td>\n",
              "    </tr>\n",
              "    <tr>\n",
              "      <th>1</th>\n",
              "      <td>209</td>\n",
              "      <td>1</td>\n",
              "      <td>0</td>\n",
              "      <td>1</td>\n",
              "      <td>0</td>\n",
              "      <td>0.0</td>\n",
              "      <td>0</td>\n",
              "      <td>2</td>\n",
              "      <td>1</td>\n",
              "    </tr>\n",
              "    <tr>\n",
              "      <th>2</th>\n",
              "      <td>257</td>\n",
              "      <td>1</td>\n",
              "      <td>0</td>\n",
              "      <td>1</td>\n",
              "      <td>0</td>\n",
              "      <td>0.0</td>\n",
              "      <td>0</td>\n",
              "      <td>2</td>\n",
              "      <td>1</td>\n",
              "    </tr>\n",
              "    <tr>\n",
              "      <th>3</th>\n",
              "      <td>257</td>\n",
              "      <td>1</td>\n",
              "      <td>1</td>\n",
              "      <td>1</td>\n",
              "      <td>0</td>\n",
              "      <td>0.0</td>\n",
              "      <td>0</td>\n",
              "      <td>2</td>\n",
              "      <td>1</td>\n",
              "    </tr>\n",
              "    <tr>\n",
              "      <th>4</th>\n",
              "      <td>342</td>\n",
              "      <td>1</td>\n",
              "      <td>0</td>\n",
              "      <td>1</td>\n",
              "      <td>0</td>\n",
              "      <td>0.0</td>\n",
              "      <td>0</td>\n",
              "      <td>2</td>\n",
              "      <td>1</td>\n",
              "    </tr>\n",
              "  </tbody>\n",
              "</table>\n",
              "</div>"
            ],
            "text/plain": [
              "   Estimated_Insects_Count  Crop_Type  ...  Season  Crop_Damage\n",
              "0                      188          1  ...       1            0\n",
              "1                      209          1  ...       2            1\n",
              "2                      257          1  ...       2            1\n",
              "3                      257          1  ...       2            1\n",
              "4                      342          1  ...       2            1\n",
              "\n",
              "[5 rows x 9 columns]"
            ]
          },
          "metadata": {
            "tags": []
          },
          "execution_count": 162
        }
      ]
    },
    {
      "cell_type": "code",
      "metadata": {
        "id": "mSv0475ZrwZH"
      },
      "source": [
        "test_data.drop('ID',axis=1,inplace=True)"
      ],
      "execution_count": 163,
      "outputs": []
    },
    {
      "cell_type": "code",
      "metadata": {
        "colab": {
          "base_uri": "https://localhost:8080/",
          "height": 195
        },
        "id": "pAKP4AHrrwZH",
        "outputId": "fa937058-c3b6-4073-fcb4-515a4dec143b"
      },
      "source": [
        "test_data.head()"
      ],
      "execution_count": 164,
      "outputs": [
        {
          "output_type": "execute_result",
          "data": {
            "text/html": [
              "<div>\n",
              "<style scoped>\n",
              "    .dataframe tbody tr th:only-of-type {\n",
              "        vertical-align: middle;\n",
              "    }\n",
              "\n",
              "    .dataframe tbody tr th {\n",
              "        vertical-align: top;\n",
              "    }\n",
              "\n",
              "    .dataframe thead th {\n",
              "        text-align: right;\n",
              "    }\n",
              "</style>\n",
              "<table border=\"1\" class=\"dataframe\">\n",
              "  <thead>\n",
              "    <tr style=\"text-align: right;\">\n",
              "      <th></th>\n",
              "      <th>Estimated_Insects_Count</th>\n",
              "      <th>Crop_Type</th>\n",
              "      <th>Soil_Type</th>\n",
              "      <th>Pesticide_Use_Category</th>\n",
              "      <th>Number_Doses_Week</th>\n",
              "      <th>Number_Weeks_Used</th>\n",
              "      <th>Number_Weeks_Quit</th>\n",
              "      <th>Season</th>\n",
              "    </tr>\n",
              "  </thead>\n",
              "  <tbody>\n",
              "    <tr>\n",
              "      <th>0</th>\n",
              "      <td>188</td>\n",
              "      <td>1</td>\n",
              "      <td>1</td>\n",
              "      <td>1</td>\n",
              "      <td>0</td>\n",
              "      <td>20.0</td>\n",
              "      <td>0</td>\n",
              "      <td>2</td>\n",
              "    </tr>\n",
              "    <tr>\n",
              "      <th>1</th>\n",
              "      <td>410</td>\n",
              "      <td>1</td>\n",
              "      <td>1</td>\n",
              "      <td>1</td>\n",
              "      <td>0</td>\n",
              "      <td>0.0</td>\n",
              "      <td>0</td>\n",
              "      <td>2</td>\n",
              "    </tr>\n",
              "    <tr>\n",
              "      <th>2</th>\n",
              "      <td>626</td>\n",
              "      <td>1</td>\n",
              "      <td>0</td>\n",
              "      <td>1</td>\n",
              "      <td>0</td>\n",
              "      <td>0.0</td>\n",
              "      <td>0</td>\n",
              "      <td>2</td>\n",
              "    </tr>\n",
              "    <tr>\n",
              "      <th>3</th>\n",
              "      <td>731</td>\n",
              "      <td>1</td>\n",
              "      <td>0</td>\n",
              "      <td>1</td>\n",
              "      <td>0</td>\n",
              "      <td>0.0</td>\n",
              "      <td>0</td>\n",
              "      <td>2</td>\n",
              "    </tr>\n",
              "    <tr>\n",
              "      <th>4</th>\n",
              "      <td>789</td>\n",
              "      <td>0</td>\n",
              "      <td>0</td>\n",
              "      <td>1</td>\n",
              "      <td>0</td>\n",
              "      <td>0.0</td>\n",
              "      <td>0</td>\n",
              "      <td>1</td>\n",
              "    </tr>\n",
              "  </tbody>\n",
              "</table>\n",
              "</div>"
            ],
            "text/plain": [
              "   Estimated_Insects_Count  Crop_Type  ...  Number_Weeks_Quit  Season\n",
              "0                      188          1  ...                  0       2\n",
              "1                      410          1  ...                  0       2\n",
              "2                      626          1  ...                  0       2\n",
              "3                      731          1  ...                  0       2\n",
              "4                      789          0  ...                  0       1\n",
              "\n",
              "[5 rows x 8 columns]"
            ]
          },
          "metadata": {
            "tags": []
          },
          "execution_count": 164
        }
      ]
    },
    {
      "cell_type": "code",
      "metadata": {
        "id": "7C3rAtK4rwZI"
      },
      "source": [
        "X_train, Y = train.drop([\"Crop_Damage\"], axis=1).values, train[\"Crop_Damage\"].values\n",
        "X_test = test_data.values"
      ],
      "execution_count": 165,
      "outputs": []
    },
    {
      "cell_type": "code",
      "metadata": {
        "colab": {
          "base_uri": "https://localhost:8080/"
        },
        "id": "HcaBVudErwZJ",
        "outputId": "6e878862-1214-4675-9968-c3c43657370e"
      },
      "source": [
        "X_train.shape, Y.shape, X_test.shape"
      ],
      "execution_count": 166,
      "outputs": [
        {
          "output_type": "execute_result",
          "data": {
            "text/plain": [
              "((88858, 8), (88858,), (59310, 8))"
            ]
          },
          "metadata": {
            "tags": []
          },
          "execution_count": 166
        }
      ]
    },
    {
      "cell_type": "code",
      "metadata": {
        "colab": {
          "base_uri": "https://localhost:8080/"
        },
        "id": "L3fzLSlTrwZJ",
        "outputId": "3eb0a2e3-ba00-4a09-8c75-3389623f9691"
      },
      "source": [
        "Y[:5]"
      ],
      "execution_count": 167,
      "outputs": [
        {
          "output_type": "execute_result",
          "data": {
            "text/plain": [
              "array([0, 1, 1, 1, 1])"
            ]
          },
          "metadata": {
            "tags": []
          },
          "execution_count": 167
        }
      ]
    },
    {
      "cell_type": "code",
      "metadata": {
        "id": "BNdvWbVsrwZK"
      },
      "source": [
        "from sklearn.model_selection import train_test_split\n",
        "\n",
        "X_train, X_test, y_train, y_test = train_test_split(X_train, Y, test_size=0.2,random_state=seed)"
      ],
      "execution_count": 168,
      "outputs": []
    },
    {
      "cell_type": "markdown",
      "metadata": {
        "id": "3t1WdzwVrwZP"
      },
      "source": [
        "# CATBOOST"
      ]
    },
    {
      "cell_type": "code",
      "metadata": {
        "colab": {
          "base_uri": "https://localhost:8080/"
        },
        "id": "ljXKrB7WrwZP",
        "outputId": "15a6b24e-ed8b-48f7-92aa-d12f40ef9801"
      },
      "source": [
        "!pip install catboost"
      ],
      "execution_count": 140,
      "outputs": [
        {
          "output_type": "stream",
          "text": [
            "Collecting catboost\n",
            "\u001b[?25l  Downloading https://files.pythonhosted.org/packages/7e/c1/c1c4707013f9e2f8a96899dd3a87f66c9167d6d776a6dc8fe7ec8678d446/catboost-0.24.3-cp36-none-manylinux1_x86_64.whl (66.3MB)\n",
            "\u001b[K     |████████████████████████████████| 66.3MB 61kB/s \n",
            "\u001b[?25hRequirement already satisfied: graphviz in /usr/local/lib/python3.6/dist-packages (from catboost) (0.10.1)\n",
            "Requirement already satisfied: six in /usr/local/lib/python3.6/dist-packages (from catboost) (1.15.0)\n",
            "Requirement already satisfied: scipy in /usr/local/lib/python3.6/dist-packages (from catboost) (1.4.1)\n",
            "Requirement already satisfied: matplotlib in /usr/local/lib/python3.6/dist-packages (from catboost) (3.2.2)\n",
            "Requirement already satisfied: numpy>=1.16.0 in /usr/local/lib/python3.6/dist-packages (from catboost) (1.19.4)\n",
            "Requirement already satisfied: plotly in /usr/local/lib/python3.6/dist-packages (from catboost) (4.4.1)\n",
            "Requirement already satisfied: pandas>=0.24.0 in /usr/local/lib/python3.6/dist-packages (from catboost) (1.1.5)\n",
            "Requirement already satisfied: kiwisolver>=1.0.1 in /usr/local/lib/python3.6/dist-packages (from matplotlib->catboost) (1.3.1)\n",
            "Requirement already satisfied: python-dateutil>=2.1 in /usr/local/lib/python3.6/dist-packages (from matplotlib->catboost) (2.8.1)\n",
            "Requirement already satisfied: pyparsing!=2.0.4,!=2.1.2,!=2.1.6,>=2.0.1 in /usr/local/lib/python3.6/dist-packages (from matplotlib->catboost) (2.4.7)\n",
            "Requirement already satisfied: cycler>=0.10 in /usr/local/lib/python3.6/dist-packages (from matplotlib->catboost) (0.10.0)\n",
            "Requirement already satisfied: retrying>=1.3.3 in /usr/local/lib/python3.6/dist-packages (from plotly->catboost) (1.3.3)\n",
            "Requirement already satisfied: pytz>=2017.2 in /usr/local/lib/python3.6/dist-packages (from pandas>=0.24.0->catboost) (2018.9)\n",
            "Installing collected packages: catboost\n",
            "Successfully installed catboost-0.24.3\n"
          ],
          "name": "stdout"
        }
      ]
    },
    {
      "cell_type": "code",
      "metadata": {
        "colab": {
          "base_uri": "https://localhost:8080/"
        },
        "id": "d84L__PlrwZQ",
        "outputId": "f0e9e643-1550-49f1-e916-0836e6f6edb7"
      },
      "source": [
        "from catboost import CatBoostClassifier\n",
        "from sklearn.model_selection import cross_val_score\n",
        "from sklearn.model_selection import RepeatedStratifiedKFold\n",
        "from numpy import asarray\n",
        "from numpy import mean\n",
        "from numpy import std\n",
        "\n",
        "CatB = CatBoostClassifier(verbose=0, n_estimators=100)\n",
        "cv = RepeatedStratifiedKFold(n_splits=10, n_repeats=3, random_state=seed)\n",
        "n_scores = cross_val_score(CatB, X_train, y_train, scoring='accuracy', cv=cv, n_jobs=-1, error_score='raise')\n",
        "\n",
        "print('Accuracy: %.6f (%.6f)' % (mean(n_scores), std(n_scores)))\n",
        "\n",
        "CatB.fit(X_train,y_train,early_stopping_rounds=5, \n",
        "             eval_set=[(X_test, y_test)], \n",
        "             verbose=False) \n",
        "\n",
        "CatB.score(X_train,y_train)"
      ],
      "execution_count": 142,
      "outputs": [
        {
          "output_type": "stream",
          "text": [
            "Accuracy: 0.846571 (0.001975)\n"
          ],
          "name": "stdout"
        },
        {
          "output_type": "execute_result",
          "data": {
            "text/plain": [
              "0.8498719860450722"
            ]
          },
          "metadata": {
            "tags": []
          },
          "execution_count": 142
        }
      ]
    },
    {
      "cell_type": "code",
      "metadata": {
        "colab": {
          "base_uri": "https://localhost:8080/"
        },
        "id": "FbWEYZ6DrwZQ",
        "outputId": "c744bcb8-b4e0-4eec-dfa4-b8b1ff89d7f3"
      },
      "source": [
        "y_pred=CatB.predict(X_test)\n",
        "CatB_acc = accuracy_score(y_test,y_pred)\n",
        "CatB_mae = mean_absolute_error(y_pred,y_test) \n",
        "print(\"Mean Absolute Error:\" , CatB_mae)\n",
        "print(\"\\nAccuracy Score {}\".format(CatB_acc))\n",
        "\n",
        "print(\"\\nClassification report: \\n{}\".format(classification_report(y_test,y_pred)))"
      ],
      "execution_count": 143,
      "outputs": [
        {
          "output_type": "stream",
          "text": [
            "Mean Absolute Error: 0.1765136169255008\n",
            "\n",
            "Accuracy Score 0.8427864055818141\n",
            "\n",
            "Classification report: \n",
            "              precision    recall  f1-score   support\n",
            "\n",
            "           0       0.86      0.99      0.92     14803\n",
            "           1       0.53      0.15      0.24      2499\n",
            "           2       0.00      0.00      0.00       470\n",
            "\n",
            "    accuracy                           0.84     17772\n",
            "   macro avg       0.46      0.38      0.38     17772\n",
            "weighted avg       0.79      0.84      0.80     17772\n",
            "\n"
          ],
          "name": "stdout"
        }
      ]
    },
    {
      "cell_type": "code",
      "metadata": {
        "id": "EZ_4r9Vl8obX"
      },
      "source": [
        "result = CatB.predict(test_data)\r\n",
        "\r\n",
        "submission = pd.read_csv(sub_path)\r\n",
        "submission = submission.drop('Crop_Damage',axis=1)\r\n",
        "submission['Crop_Damage'] = result"
      ],
      "execution_count": 177,
      "outputs": []
    },
    {
      "cell_type": "code",
      "metadata": {
        "id": "7PwApsPt9u2R"
      },
      "source": [
        "submission.to_csv('CatBoost_submission.csv')"
      ],
      "execution_count": 179,
      "outputs": []
    },
    {
      "cell_type": "code",
      "metadata": {
        "colab": {
          "base_uri": "https://localhost:8080/",
          "height": 195
        },
        "id": "0DOGgggV9ZF2",
        "outputId": "b50a8b10-56fc-4c25-f5a9-d0498125e252"
      },
      "source": [
        "submission.head()"
      ],
      "execution_count": 181,
      "outputs": [
        {
          "output_type": "execute_result",
          "data": {
            "text/html": [
              "<div>\n",
              "<style scoped>\n",
              "    .dataframe tbody tr th:only-of-type {\n",
              "        vertical-align: middle;\n",
              "    }\n",
              "\n",
              "    .dataframe tbody tr th {\n",
              "        vertical-align: top;\n",
              "    }\n",
              "\n",
              "    .dataframe thead th {\n",
              "        text-align: right;\n",
              "    }\n",
              "</style>\n",
              "<table border=\"1\" class=\"dataframe\">\n",
              "  <thead>\n",
              "    <tr style=\"text-align: right;\">\n",
              "      <th></th>\n",
              "      <th>ID</th>\n",
              "      <th>Crop_Damage</th>\n",
              "    </tr>\n",
              "  </thead>\n",
              "  <tbody>\n",
              "    <tr>\n",
              "      <th>0</th>\n",
              "      <td>F00000002</td>\n",
              "      <td>1</td>\n",
              "    </tr>\n",
              "    <tr>\n",
              "      <th>1</th>\n",
              "      <td>F00000011</td>\n",
              "      <td>1</td>\n",
              "    </tr>\n",
              "    <tr>\n",
              "      <th>2</th>\n",
              "      <td>F00000014</td>\n",
              "      <td>1</td>\n",
              "    </tr>\n",
              "    <tr>\n",
              "      <th>3</th>\n",
              "      <td>F00000015</td>\n",
              "      <td>1</td>\n",
              "    </tr>\n",
              "    <tr>\n",
              "      <th>4</th>\n",
              "      <td>F00000016</td>\n",
              "      <td>1</td>\n",
              "    </tr>\n",
              "  </tbody>\n",
              "</table>\n",
              "</div>"
            ],
            "text/plain": [
              "          ID  Crop_Damage\n",
              "0  F00000002            1\n",
              "1  F00000011            1\n",
              "2  F00000014            1\n",
              "3  F00000015            1\n",
              "4  F00000016            1"
            ]
          },
          "metadata": {
            "tags": []
          },
          "execution_count": 181
        }
      ]
    },
    {
      "cell_type": "markdown",
      "metadata": {
        "id": "oqWjByu2rwZS"
      },
      "source": [
        "# LGBM"
      ]
    },
    {
      "cell_type": "code",
      "metadata": {
        "colab": {
          "base_uri": "https://localhost:8080/"
        },
        "id": "a2t463cvrwZT",
        "outputId": "03c16e54-5339-4eb4-d351-b7a523de5a96"
      },
      "source": [
        "!pip install lightgbm"
      ],
      "execution_count": 182,
      "outputs": [
        {
          "output_type": "stream",
          "text": [
            "Requirement already satisfied: lightgbm in /usr/local/lib/python3.6/dist-packages (2.2.3)\n",
            "Requirement already satisfied: numpy in /usr/local/lib/python3.6/dist-packages (from lightgbm) (1.19.4)\n",
            "Requirement already satisfied: scipy in /usr/local/lib/python3.6/dist-packages (from lightgbm) (1.4.1)\n",
            "Requirement already satisfied: scikit-learn in /usr/local/lib/python3.6/dist-packages (from lightgbm) (0.22.2.post1)\n",
            "Requirement already satisfied: joblib>=0.11 in /usr/local/lib/python3.6/dist-packages (from scikit-learn->lightgbm) (1.0.0)\n"
          ],
          "name": "stdout"
        }
      ]
    },
    {
      "cell_type": "code",
      "metadata": {
        "colab": {
          "base_uri": "https://localhost:8080/"
        },
        "id": "ffDtgqjOrwZT",
        "outputId": "a4299028-1344-410f-e03b-4b97ee50174d"
      },
      "source": [
        "from lightgbm import LGBMClassifier\n",
        "\n",
        "model_lgbm = LGBMClassifier(verbose=0, n_estimators=1000,learning_rate=0.05, n_jobs=4)\n",
        "cv = RepeatedStratifiedKFold(n_splits=10, n_repeats=3, random_state=seed)\n",
        "n_scores = cross_val_score(model_lgbm, X_train, y_train, scoring='accuracy', cv=cv, n_jobs=-1, error_score='raise')\n",
        "\n",
        "print('Accuracy: %.6f (%.6f)' % (mean(n_scores), std(n_scores)))\n",
        "\n",
        "model_lgbm.fit(X_train,y_train,early_stopping_rounds=5, \n",
        "             eval_set=[(X_test, y_test)], \n",
        "             verbose=False) \n",
        "\n",
        "model_lgbm.score(X_train,y_train)"
      ],
      "execution_count": 183,
      "outputs": [
        {
          "output_type": "stream",
          "text": [
            "Accuracy: 0.846275 (0.002619)\n"
          ],
          "name": "stdout"
        },
        {
          "output_type": "execute_result",
          "data": {
            "text/plain": [
              "0.8508989111780098"
            ]
          },
          "metadata": {
            "tags": []
          },
          "execution_count": 183
        }
      ]
    },
    {
      "cell_type": "code",
      "metadata": {
        "colab": {
          "base_uri": "https://localhost:8080/"
        },
        "id": "cQ2tCutyrwZT",
        "outputId": "cdcfae2d-3e07-41c6-c616-5a8b691a50e4"
      },
      "source": [
        "y_pred=model_lgbm.predict(X_test)\n",
        "lgbm_acc = accuracy_score(y_test,y_pred)\n",
        "lgbm_mae = mean_absolute_error(y_pred,y_test) \n",
        "print(\"Mean Absolute Error:\" , lgbm_mae)\n",
        "print(\"\\nAccuracy Score {}\".format(lgbm_acc))\n",
        "\n",
        "print(\"\\nClassification report: \\n{}\".format(classification_report(y_test,y_pred)))"
      ],
      "execution_count": 185,
      "outputs": [
        {
          "output_type": "stream",
          "text": [
            "Mean Absolute Error: 0.17482556830970064\n",
            "\n",
            "Accuracy Score 0.8441368444744543\n",
            "\n",
            "Classification report: \n",
            "              precision    recall  f1-score   support\n",
            "\n",
            "           0       0.86      0.98      0.92     14803\n",
            "           1       0.54      0.17      0.26      2499\n",
            "           2       0.00      0.00      0.00       470\n",
            "\n",
            "    accuracy                           0.84     17772\n",
            "   macro avg       0.47      0.38      0.39     17772\n",
            "weighted avg       0.79      0.84      0.80     17772\n",
            "\n"
          ],
          "name": "stdout"
        },
        {
          "output_type": "stream",
          "text": [
            "/usr/local/lib/python3.6/dist-packages/sklearn/metrics/_classification.py:1272: UndefinedMetricWarning: Precision and F-score are ill-defined and being set to 0.0 in labels with no predicted samples. Use `zero_division` parameter to control this behavior.\n",
            "  _warn_prf(average, modifier, msg_start, len(result))\n"
          ],
          "name": "stderr"
        }
      ]
    }
  ]
}